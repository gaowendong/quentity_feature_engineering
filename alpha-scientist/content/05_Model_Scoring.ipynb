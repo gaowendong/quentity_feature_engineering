{
 "cells": [
  {
   "cell_type": "markdown",
   "metadata": {},
   "source": [
    "### Introduction\n",
    "\n",
    "Use of machine learning in the quantitative investment field is, by all indications, skyrocketing.  The proliferation of easily accessible data - both traditional and alternative - along with some very approachable frameworks for machine learning models - is encouraging many to explore the arena.\n",
    "\n",
    "However, these financial ML explorers are learning that there are many ways in which using ML to predict financial time series differs greatly from labeling cat pictures or flagging spam.  Among these differences is that traditional model performance metrics (RSQ, MSE, accuracy, F1, etc...) can be misleading and incomplete.  \n",
    "\n",
    "Over the past several years, I've developed a set of metrics which have proved useful for comparing and optimizing financial time series models.  These metrics attempt to measure models' _predictive power_ but also their _trade-ability_, critically important for those who actually intend to _use_ their models in the real world.    \n",
    "\n",
    "In this post, I will present a general outline of my approach and will demonstrate a few of the most useful metrics I've added to my standard \"scorecard\".  I look forward to hearing how others may think to extend the concept.  If you'd like to replicate and experiment with the below code, _you can download the source notebook for this post by right-clicking on the below button and choosing \"save link as\"_ \n",
    "\n",
    "<a style=\"text-align: center;\" href=\"https://github.com/convergenceIM/alpha-scientist/blob/master/content/05_model_scoring.ipynb\"><img src=\"images/button_ipynb-notebook.png\" title=\"download ipynb\" /></a>\n",
    "\n",
    "If you haven't already checked out the previous four installments in this tutorial, you may want review those first.  Many of the coding patterns used below are discussed at length:\n",
    "\n",
    "*  [Part 1: Data Management](data_management.html)\n",
    "*  [Part 2: Feature Engineering](feature_engineering.html)\n",
    "*  [Part 3: Feature Selection](feature_selection.html)\n",
    "*  [Part 4: Walk-forward model building](walk_forward_model_building.html)\n",
    "\n"
   ]
  },
  {
   "cell_type": "markdown",
   "metadata": {},
   "source": [
    "### Preparing sample data\n",
    "\n",
    "I will illustrate this metrics methodology using a simple example of synthetically generated data (see previous posts in this tutorial for explanations of the below method of creating data).  "
   ]
  },
  {
   "cell_type": "code",
   "execution_count": 2,
   "metadata": {
    "collapsed": true
   },
   "outputs": [],
   "source": [
    "## Remove / Replace this code with a link to your quandl key, if you have one\n",
    "import sys\n",
    "sys.path.append('/anaconda/')\n",
    "import config\n",
    "quandl_key = config.quandl_key\n",
    "\n",
    "\n",
    "from IPython.core.display import Image\n",
    "import numpy as np\n",
    "import pandas as pd\n",
    "pd.core.common.is_list_like = pd.api.types.is_list_like \n",
    "# May be necessary to fix below issue\n",
    "# https://github.com/pydata/pandas-datareader/issues/534\n",
    "import pandas_datareader.data as web\n",
    "%matplotlib inline\n",
    "\n",
    "\n",
    "def get_symbols(symbols,data_source, quandl_key=None, begin_date=None,end_date=None):\n",
    "    out = pd.DataFrame()\n",
    "    for symbol in symbols:\n",
    "        df = web.DataReader(symbol, data_source,begin_date, end_date)\\\n",
    "        [['AdjOpen','AdjHigh','AdjLow','AdjClose','AdjVolume']].reset_index()\n",
    "        df.columns = ['date','open','high','low','close','volume'] \n",
    "        df['symbol'] = symbol # add symbol col so we can keep all in the same dataframe\n",
    "        df = df.set_index(['date','symbol'])\n",
    "        out = pd.concat([out,df],axis=0) #stacks on top of previously collected data\n",
    "    return out.sort_index()\n",
    "        \n",
    "prices = get_symbols(['AAPL','CSCO','AMZN','YHOO','MSFT'],\\\n",
    "                     data_source='quandl',quandl_key=quandl_key,begin_date='2012-01-01',end_date=None)\n",
    "# Note: we're only using real price data to generate an index set.  \n",
    "# We will make synthetic features and outcomes below instead of deriving from price\n"
   ]
  },
  {
   "cell_type": "markdown",
   "metadata": {},
   "source": [
    "The below code generates several features then _synthetically generates_ an outcome series from them (along with noise).  This guarantees that the features will be informative, since the outcome has been constructed to ensure a relationship."
   ]
  },
  {
   "cell_type": "code",
   "execution_count": 3,
   "metadata": {
    "collapsed": true
   },
   "outputs": [],
   "source": [
    "num_obs = prices.close.count()\n",
    "\n",
    "def add_memory(s,n_days=50,mem_strength=0.1):\n",
    "    ''' adds autoregressive behavior to series of data'''\n",
    "    add_ewm = lambda x: (1-mem_strength)*x + mem_strength*x.ewm(n_days).mean()\n",
    "    out = s.groupby(level='symbol').apply(add_ewm)\n",
    "    return out\n",
    "\n",
    "# generate feature data\n",
    "f01 = pd.Series(np.random.randn(num_obs),index=prices.index)\n",
    "f01 = add_memory(f01,10,0.1)\n",
    "f02 = pd.Series(np.random.randn(num_obs),index=prices.index)\n",
    "f02 = add_memory(f02,10,0.1)\n",
    "f03 = pd.Series(np.random.randn(num_obs),index=prices.index)\n",
    "f03 = add_memory(f03,10,0.1)\n",
    "f04 = pd.Series(np.random.randn(num_obs),index=prices.index)\n",
    "f04 = f04 # no memory\n",
    "\n",
    "features = pd.concat([f01,f02,f03,f04],axis=1)\n",
    "\n",
    "## now, create response variable such that it is related to features\n",
    "# f01 becomes increasingly important, f02 becomes decreasingly important,\n",
    "# f03 oscillates in importance, f04 is stationary, \n",
    "# and finally a noise component is added\n",
    "\n",
    "outcome =   f01 * np.linspace(0.5,1.5,num_obs) + \\\n",
    "            f02 * np.linspace(1.5,0.5,num_obs) + \\\n",
    "            f03 * pd.Series(np.sin(2*np.pi*np.linspace(0,1,num_obs)*2)+1,index=f03.index) + \\\n",
    "            f04 + \\\n",
    "            np.random.randn(num_obs) * 3 \n",
    "outcome.name = 'outcome'"
   ]
  },
  {
   "cell_type": "markdown",
   "metadata": {},
   "source": [
    "### Generating models and predictions\n",
    "Imagine that we created a simple linear model (such as below) and wanted to measure its effectiveness at prediction.  \n",
    "\n",
    ">Note: we'll follow the walk-forward modeling process described in the [previous post](walk_forward_model_building.html).  If you don't understand the below code snippet (and want to...) please check out that post."
   ]
  },
  {
   "cell_type": "code",
   "execution_count": 4,
   "metadata": {
    "collapsed": true
   },
   "outputs": [],
   "source": [
    "from sklearn.linear_model import LinearRegression\n",
    "\n",
    "## fit models for each timestep on a walk-forward basis\n",
    "recalc_dates = features.resample('Q',level='date').mean().index.values[:-1]\n",
    "models = pd.Series(index=recalc_dates)\n",
    "for date in recalc_dates:\n",
    "    X_train = features.xs(slice(None,date),level='date',drop_level=False)\n",
    "    y_train = outcome.xs(slice(None,date),level='date',drop_level=False)\n",
    "    model = LinearRegression()\n",
    "    model.fit(X_train,y_train)\n",
    "    models.loc[date] = model\n",
    "\n",
    "## predict values walk-forward (all predictions out of sample)\n",
    "begin_dates = models.index\n",
    "end_dates = models.index[1:].append(pd.to_datetime(['2099-12-31']))\n",
    "\n",
    "predictions = pd.Series(index=features.index)\n",
    "\n",
    "for i,model in enumerate(models): #loop thru each models object in collection\n",
    "    X = features.xs(slice(begin_dates[i],end_dates[i]),level='date',drop_level=False)\n",
    "    p = pd.Series(model.predict(X),index=X.index)\n",
    "    predictions.loc[X.index] = p"
   ]
  },
  {
   "cell_type": "markdown",
   "metadata": {},
   "source": [
    "### Traditional model evaluation\n",
    "So we've got a model, we've got a sizeable set of (out of sample) predictions.  Is the model any good?  Should we junk it, tune it, or trade it?  Since this is a regression model, I'll throw our data into `scikit-learn`'s metrics package.  "
   ]
  },
  {
   "cell_type": "code",
   "execution_count": 5,
   "metadata": {},
   "outputs": [
    {
     "name": "stdout",
     "output_type": "stream",
     "text": [
      "explained variance    0.251057\n",
      "MAE                   2.491337\n",
      "MSE                   9.784733\n",
      "MedAE                 2.098055\n",
      "RSQ                   0.251051\n",
      "dtype: float64\n"
     ]
    }
   ],
   "source": [
    "import sklearn.metrics as metrics\n",
    "\n",
    "# make sure we have 1-for-1 mapping between pred and true\n",
    "common_idx = outcome.dropna().index.intersection(predictions.dropna().index)\n",
    "y_true = outcome[common_idx]\n",
    "y_true.name = 'y_true'\n",
    "y_pred = predictions[common_idx]\n",
    "y_pred.name = 'y_pred'\n",
    "\n",
    "standard_metrics = pd.Series()\n",
    "\n",
    "standard_metrics.loc['explained variance'] = metrics.explained_variance_score(y_true, y_pred)\n",
    "standard_metrics.loc['MAE'] = metrics.mean_absolute_error(y_true, y_pred)\n",
    "standard_metrics.loc['MSE'] = metrics.mean_squared_error(y_true, y_pred)\n",
    "standard_metrics.loc['MedAE'] = metrics.median_absolute_error(y_true, y_pred)\n",
    "standard_metrics.loc['RSQ'] = metrics.r2_score(y_true, y_pred)\n",
    "\n",
    "print(standard_metrics)\n",
    "\n"
   ]
  },
  {
   "cell_type": "markdown",
   "metadata": {},
   "source": [
    "<img src=\"images/confused_scientist.jpg\" width=\"400\">\n",
    "\n",
    "These stats don't really tell us much by themselves.  You may have an intuition for r-squared so that may give you a level of confidence in the models.  However, even this metric [has problems](https://onlinecourses.science.psu.edu/stat501/node/258/) not to mention does not tell us much about the practicality of this signal from a trading point of view.  \n",
    "\n",
    "True, we could construct some trading rules around this series of predictions and perform a formal backtest on that.  However, that is quite time consuming and introduces a number of extraneous variables into the equation.  "
   ]
  },
  {
   "cell_type": "markdown",
   "metadata": {},
   "source": [
    "### A better way...  Creating custom metrics\n",
    "Instead of relying on generic ML metrics, we will create several custom metrics that will hopefully give a more complete picture of strength, reliability, and practicality of these models.  \n",
    "\n",
    "I'll work through an example of creating an extensible _scorecard_ with about a half dozen custom-defined _metrics_ as a starting point.  You can feel free to extend this into a longer scorecard which is suited to your needs and beliefs.  In my own trading, I use about 25 metrics in a standard \"scorecard\" each time I evaluate a model.  You may prefer to use more, fewer, or different metrics but the process should be applicable.    \n",
    "\n",
    "I'll focus only on regression-oriented metrics (i.e., those which use a continuous prediction rather than a binary or classification prediction).  It's trivial to re-purpose the same framework to a classification-oriented environment.  "
   ]
  },
  {
   "cell_type": "markdown",
   "metadata": {},
   "source": [
    "### Step 1: Preprocess data primitives \n",
    "Before implementing specific metrics we need to do some data pre-processing.  It'll become clear why doing this first will save considerable time later when calculating aggregate metrics.\n",
    "\n",
    "To create these intermediate values, you'll need the following inputs:\n",
    "* __y_pred:__ the _continuous variable_ prediction made by your model for each timestep, for each symbol\n",
    "* __y_true:__ the _continuous variable_ actual outcome for each timestep, for each symbol.  \n",
    "* __index:__ this is the unique identifier for each prediction or actual result.  If working with a single instrument, then you can simply use date (or time or whatever).  If you're using multiple instruments, a multi-index with (date/symbol) is necessary. \n",
    "\n",
    "In other words, if your model is predicting one-day price changes, you'd want your y_pred to be the model's predictions made as of March 9th (for the coming day), indexed as `2017-03-09` and you'd want the actual _future_ outcome which will play out in the next day also aligned to Mar 9th.  This \"peeking\" convention is very useful for working with large sets of data across different time horizons.  It is described ad nauseum in [Part 1: Data Management](data_management.html).\n",
    "\n",
    "The raw input data we need to provide might look something like this:"
   ]
  },
  {
   "cell_type": "code",
   "execution_count": 6,
   "metadata": {},
   "outputs": [
    {
     "name": "stdout",
     "output_type": "stream",
     "text": [
      "                     y_pred    y_true\n",
      "date       symbol                    \n",
      "2018-03-26 MSFT    0.707500  1.693673\n",
      "2018-03-27 AAPL    1.744680 -1.830242\n",
      "           AMZN    0.594976 -2.302375\n",
      "           CSCO   -2.838380 -2.462017\n",
      "           MSFT   -0.417073 -1.586291\n"
     ]
    }
   ],
   "source": [
    "print(pd.concat([y_pred,y_true],axis=1).tail())"
   ]
  },
  {
   "cell_type": "markdown",
   "metadata": {},
   "source": [
    "We will feed this data into a simple function which will return a dataframe with the y_pred and y_true values, along with several other useful derivative values.  These derivative values include:\n",
    "\n",
    "* __sign_pred:__ positive or negative sign of prediction\n",
    "* __sign_true:__ positive or negative sign of true outcome\n",
    "* __is_correct:__ 1 if sign_pred == sign_true, else 0\n",
    "* __is_incorrect:__ opposite\n",
    "* __is_predicted:__ 1 if the model has made a valid prediction, 0 if not.  This is important if models only emit predictions when they have a certain level of confidence\n",
    "* __result:__ the profit (loss) resulting from betting one unit in the direction of the sign_pred.  This is the continuous variable result of following the model"
   ]
  },
  {
   "cell_type": "code",
   "execution_count": 7,
   "metadata": {},
   "outputs": [
    {
     "name": "stdout",
     "output_type": "stream",
     "text": [
      "                     y_pred    y_true  sign_pred  sign_true  is_correct  \\\n",
      "date       symbol                                                         \n",
      "2018-03-26 MSFT    0.707500  1.693673        1.0        1.0           1   \n",
      "2018-03-27 AAPL    1.744680 -1.830242        1.0       -1.0           0   \n",
      "           AMZN    0.594976 -2.302375        1.0       -1.0           0   \n",
      "           CSCO   -2.838380 -2.462017       -1.0       -1.0           1   \n",
      "           MSFT   -0.417073 -1.586291       -1.0       -1.0           1   \n",
      "\n",
      "                   is_incorrect  is_predicted    result  \n",
      "date       symbol                                        \n",
      "2018-03-26 MSFT               0             1  1.693673  \n",
      "2018-03-27 AAPL               1             1 -1.830242  \n",
      "           AMZN               1             1 -2.302375  \n",
      "           CSCO               0             1  2.462017  \n",
      "           MSFT               0             1  1.586291  \n"
     ]
    }
   ],
   "source": [
    "def make_df(y_pred,y_true):\n",
    "    y_pred.name = 'y_pred'\n",
    "    y_true.name = 'y_true'\n",
    "    \n",
    "    df = pd.concat([y_pred,y_true],axis=1)\n",
    "\n",
    "    df['sign_pred'] = df.y_pred.apply(np.sign)\n",
    "    df['sign_true'] = df.y_true.apply(np.sign)\n",
    "    df['is_correct'] = 0\n",
    "    df.loc[df.sign_pred * df.sign_true > 0 ,'is_correct'] = 1 # only registers 1 when prediction was made AND it was correct\n",
    "    df['is_incorrect'] = 0\n",
    "    df.loc[df.sign_pred * df.sign_true < 0,'is_incorrect'] = 1 # only registers 1 when prediction was made AND it was wrong\n",
    "    df['is_predicted'] = df.is_correct + df.is_incorrect\n",
    "    df['result'] = df.sign_pred * df.y_true \n",
    "    return df\n",
    "\n",
    "df = make_df(y_pred,y_true)\n",
    "print(df.dropna().tail())"
   ]
  },
  {
   "cell_type": "markdown",
   "metadata": {},
   "source": [
    "### Defining our metrics\n",
    "With this set of intermediate variables pre-processed, we can more easily calculate metrics.  The metrics we'll start with here include things like:\n",
    "* __Accuracy:__ Just as the name suggests, this measures the percent of predictions that were _directionally_ correct vs. incorrect.\n",
    "* __Edge:__ perhaps the most useful of all metrics, this is the expected value of the prediction over a sufficiently large set of draws.  Think of this like a blackjack card counter who knows the expected profit on each dollar bet when the odds are at a level of favorability\n",
    "* __Noise:__ critically important but often ignored, the noise metric estimates how dramatically the model's predictions vary from one day to the next.  As you might imagine, a model which abruptly changes its mind every few days is much harder to follow (and much more expensive to trade) than one which is a bit more steady.    \n",
    "\n",
    "The below function takes in our pre-processed data primitives and returns a scorecard with `accuracy`, `edge`, and `noise`."
   ]
  },
  {
   "cell_type": "code",
   "execution_count": 8,
   "metadata": {},
   "outputs": [
    {
     "data": {
      "text/plain": [
       "accuracy    67.075999\n",
       "edge         1.438081\n",
       "noise        2.387606\n",
       "dtype: float64"
      ]
     },
     "execution_count": 8,
     "metadata": {},
     "output_type": "execute_result"
    }
   ],
   "source": [
    "def calc_scorecard(df):\n",
    "    scorecard = pd.Series()\n",
    "    # building block metrics\n",
    "    scorecard.loc['accuracy'] = df.is_correct.sum()*1. / (df.is_predicted.sum()*1.)*100\n",
    "    scorecard.loc['edge'] = df.result.mean()\n",
    "    scorecard.loc['noise'] = df.y_pred.diff().abs().mean()\n",
    "    \n",
    "    return scorecard    \n",
    "\n",
    "calc_scorecard(df)"
   ]
  },
  {
   "cell_type": "markdown",
   "metadata": {},
   "source": [
    "Much better.  I now know that we've been directionally correct about two-thirds of the time, and that following this signal would create an edge of ~1.5 units per time period.  \n",
    "\n",
    "Let's keep going.  We can now easily combine and transform things to derive new metrics.  The below function shows several examples, including:\n",
    "* __y_true_chg__ and __y_pred_chg:__ The average magnitude of change (per period) in y_true and y_pred.  \n",
    "* __prediction_calibration:__ A simple ratio of the magnitude of our predictions vs. magnitude of truth.  This gives some indication of whether our model is properly tuned to the size of movement in addition to the direction of it.  \n",
    "* __capture_ratio:__ Ratio of the \"edge\" we gain by following our predictions vs. the actual daily change.  100 would indicate that we were _perfectly_ capturing the true movement of the target variable.\n"
   ]
  },
  {
   "cell_type": "code",
   "execution_count": 9,
   "metadata": {},
   "outputs": [
    {
     "data": {
      "text/plain": [
       "accuracy                  67.075999\n",
       "edge                       1.438081\n",
       "noise                      2.387606\n",
       "y_true_chg                 2.888443\n",
       "y_pred_chg                 1.689327\n",
       "prediction_calibration     0.584857\n",
       "capture_ratio             49.787427\n",
       "dtype: float64"
      ]
     },
     "execution_count": 9,
     "metadata": {},
     "output_type": "execute_result"
    }
   ],
   "source": [
    "def calc_scorecard(df):\n",
    "    scorecard = pd.Series()\n",
    "    # building block metrics\n",
    "    scorecard.loc['accuracy'] = df.is_correct.sum()*1. / (df.is_predicted.sum()*1.)*100\n",
    "    scorecard.loc['edge'] = df.result.mean()\n",
    "    scorecard.loc['noise'] = df.y_pred.diff().abs().mean()\n",
    "\n",
    "    # derived metrics\n",
    "    scorecard.loc['y_true_chg'] = df.y_true.abs().mean()\n",
    "    scorecard.loc['y_pred_chg'] = df.y_pred.abs().mean()\n",
    "    scorecard.loc['prediction_calibration'] = scorecard.loc['y_pred_chg']/scorecard.loc['y_true_chg']\n",
    "    scorecard.loc['capture_ratio'] = scorecard.loc['edge']/scorecard.loc['y_true_chg']*100\n",
    "\n",
    "    return scorecard    \n",
    "\n",
    "calc_scorecard(df)"
   ]
  },
  {
   "cell_type": "markdown",
   "metadata": {},
   "source": [
    "Additionally, metrics can be easily calculated for only long or short predictions (for a two-sided model) or separately for positions which ended up being winners and losers.  \n",
    "* __edge_long__ and __edge_short:__ The \"edge\" for only long signals or for short signals.\n",
    "* __edge_win__ and __edge_lose:__ The \"edge\" for only winners or for only losers.\n",
    "\n"
   ]
  },
  {
   "cell_type": "code",
   "execution_count": 10,
   "metadata": {},
   "outputs": [
    {
     "data": {
      "text/plain": [
       "accuracy                  67.075999\n",
       "edge                       1.438081\n",
       "noise                      2.387606\n",
       "y_true_chg                 2.888443\n",
       "y_pred_chg                 1.689327\n",
       "prediction_calibration     0.584857\n",
       "capture_ratio             49.787427\n",
       "edge_long                  1.409962\n",
       "edge_short                 1.361946\n",
       "edge_win                   3.173426\n",
       "edge_lose                 -2.254256\n",
       "dtype: float64"
      ]
     },
     "execution_count": 10,
     "metadata": {},
     "output_type": "execute_result"
    }
   ],
   "source": [
    "def calc_scorecard(df):\n",
    "    scorecard = pd.Series()\n",
    "    # building block metrics\n",
    "    scorecard.loc['accuracy'] = df.is_correct.sum()*1. / (df.is_predicted.sum()*1.)*100\n",
    "    scorecard.loc['edge'] = df.result.mean()\n",
    "    scorecard.loc['noise'] = df.y_pred.diff().abs().mean()\n",
    "\n",
    "    # derived metrics\n",
    "    scorecard.loc['y_true_chg'] = df.y_true.abs().mean()\n",
    "    scorecard.loc['y_pred_chg'] = df.y_pred.abs().mean()\n",
    "    scorecard.loc['prediction_calibration'] = scorecard.loc['y_pred_chg']/scorecard.loc['y_true_chg']\n",
    "    scorecard.loc['capture_ratio'] = scorecard.loc['edge']/scorecard.loc['y_true_chg']*100\n",
    "\n",
    "    # metrics for a subset of predictions\n",
    "    scorecard.loc['edge_long'] = df[df.sign_pred == 1].result.mean()  - df.y_true.mean()\n",
    "    scorecard.loc['edge_short'] = df[df.sign_pred == -1].result.mean()  - df.y_true.mean()\n",
    "\n",
    "    scorecard.loc['edge_win'] = df[df.is_correct == 1].result.mean()  - df.y_true.mean()\n",
    "    scorecard.loc['edge_lose'] = df[df.is_incorrect == 1].result.mean()  - df.y_true.mean()\n",
    "\n",
    "    return scorecard    \n",
    "\n",
    "calc_scorecard(df)"
   ]
  },
  {
   "cell_type": "markdown",
   "metadata": {
    "collapsed": true
   },
   "source": [
    "From this slate of metrics, we've gained much more insight than we got from MSE, R-squared, etc...\n",
    "* The model is predicting with a strong directional accuracy\n",
    "* We are generating about 1.4 units of \"edge\" (expected profit) each prediction,  which is about half of the total theoretical profit \n",
    "* The model makes more on winners than it loses on losers\n",
    "* The model is equally valid on both long and short predictions  \n",
    "\n",
    "If this were real data, I would be rushing to put this model into production!\n"
   ]
  },
  {
   "cell_type": "markdown",
   "metadata": {},
   "source": [
    "### Metrics over time\n",
    "Critically important when considering using a model in live trading is to understand (a) how consistent the model's performance has been, and (b) whether its current performance has degraded from its past.  Markets have a way of discovering and eliminating past sources of edge.\n",
    "\n",
    "Here, a two line function will calculate each metric by year:"
   ]
  },
  {
   "cell_type": "code",
   "execution_count": 15,
   "metadata": {},
   "outputs": [
    {
     "name": "stdout",
     "output_type": "stream",
     "text": [
      "year                         2012       2013       2014       2015       2016  \\\n",
      "accuracy                73.723404  67.539683  64.761905  69.761905  65.873016   \n",
      "edge                     2.059936   1.461567   1.231334   1.543369   1.426360   \n",
      "noise                    2.719877   2.821616   2.399404   2.120782   2.267517   \n",
      "y_true_chg               3.084964   2.936447   2.745874   2.979032   2.913586   \n",
      "y_pred_chg               1.936173   1.941289   1.703139   1.557748   1.587378   \n",
      "prediction_calibration   0.627616   0.661102   0.620254   0.522904   0.544820   \n",
      "capture_ratio           66.773413  49.773313  44.843048  51.807720  48.955474   \n",
      "edge_long                1.967572   1.430635   1.233274   1.538225   1.364924   \n",
      "edge_short               1.952401   1.763385   1.250856   1.383851   0.832610   \n",
      "edge_win                 3.389715   3.387355   3.081384   3.159226   2.976300   \n",
      "edge_lose               -2.050069  -2.140338  -2.138265  -2.456018  -2.496835   \n",
      "\n",
      "year                         2017       2018  \n",
      "accuracy                61.814915  67.372881  \n",
      "edge                     1.021169   1.406294  \n",
      "noise                    2.087404   2.153034  \n",
      "y_true_chg               2.730181   2.739057  \n",
      "y_pred_chg               1.466882   1.583027  \n",
      "prediction_calibration   0.537284   0.577946  \n",
      "capture_ratio           37.402987  51.342271  \n",
      "edge_long                1.025613   1.266355  \n",
      "edge_short               1.089456   1.572209  \n",
      "edge_win                 3.070849   3.072564  \n",
      "edge_lose               -2.201292  -2.046276  \n"
     ]
    }
   ],
   "source": [
    "def scorecard_by_year(df):\n",
    "    df['year'] = df.index.get_level_values('date').year\n",
    "    return df.groupby('year').apply(calc_scorecard).T\n",
    "\n",
    "print(scorecard_by_year(df))"
   ]
  },
  {
   "cell_type": "markdown",
   "metadata": {},
   "source": [
    "It's just as simple to compare performance across symbols (or symbol groups, if you've defined those):"
   ]
  },
  {
   "cell_type": "code",
   "execution_count": 14,
   "metadata": {},
   "outputs": [
    {
     "name": "stdout",
     "output_type": "stream",
     "text": [
      "symbol                       AAPL       AMZN       CSCO       MSFT       YHOO\n",
      "accuracy                66.688830  65.359043  66.312292  68.504983  68.726163\n",
      "edge                     1.416872   1.346539   1.324442   1.538295   1.582845\n",
      "noise                    2.345282   2.325754   2.264191   2.469043   2.395625\n",
      "y_true_chg               2.898475   2.829595   2.807877   2.953369   2.962400\n",
      "y_pred_chg               1.698427   1.671211   1.632399   1.741992   1.704562\n",
      "prediction_calibration   0.585973   0.590618   0.581364   0.589832   0.575399\n",
      "capture_ratio           48.883363  47.587700  47.168825  52.086091  53.431158\n",
      "edge_long                1.498012   1.273866   1.292711   1.441065   1.574297\n",
      "edge_short               1.291853   1.232207   1.210812   1.569954   1.538143\n",
      "edge_win                 3.208012   3.102369   3.044073   3.241324   3.280251\n",
      "edge_lose               -2.251305  -2.233005  -2.273472  -2.283530  -2.232134\n"
     ]
    }
   ],
   "source": [
    "def scorecard_by_symbol(df):\n",
    "    return df.groupby(level='symbol').apply(calc_scorecard).T\n",
    "\n",
    "print(scorecard_by_symbol(df))"
   ]
  },
  {
   "cell_type": "markdown",
   "metadata": {
    "collapsed": true
   },
   "source": [
    "### Comparing models\n",
    "The added insight we get from this methodology comes when wanting to make comparisons between models, periods, segments, etc...\n",
    "\n",
    "To illustrate, let's say that we're comparing two models, a linear regression vs. a random forest, for performance on a training set and a testing set (pretend for a moment that we didn't adhere to [Walk-forward model building](walk_forward_model_building.html) practices...).   "
   ]
  },
  {
   "cell_type": "code",
   "execution_count": 13,
   "metadata": {},
   "outputs": [
    {
     "name": "stdout",
     "output_type": "stream",
     "text": [
      "                        model1_train  model1_test  model2_train  model2_test\n",
      "accuracy                   68.417608    62.434555     89.461627    60.732984\n",
      "edge                        1.545181     1.071990      2.730365     0.913076\n",
      "noise                       2.200392     2.123827      3.259833     2.551081\n",
      "y_true_chg                  2.926529     2.739687      2.926529     2.739687\n",
      "y_pred_chg                  1.563175     1.509218      2.291515     1.796541\n",
      "prediction_calibration      0.534139     0.550873      0.783015     0.655747\n",
      "capture_ratio              52.799120    39.128174     93.297057    33.327736\n",
      "edge_long                   1.496996     1.063473      2.664405     0.910637\n",
      "edge_short                  1.436163     1.038296      2.640406     0.873405\n",
      "edge_win                    3.190281     3.031532      3.083960     2.986226\n",
      "edge_lose                  -2.264566    -2.240729     -1.008382    -2.346892\n"
     ]
    }
   ],
   "source": [
    "from sklearn.model_selection import train_test_split\n",
    "from sklearn.linear_model import ElasticNetCV,Lasso,Ridge\n",
    "from sklearn.ensemble import RandomForestRegressor\n",
    "\n",
    "X_train,X_test,y_train,y_test = train_test_split(features,outcome,test_size=0.20,shuffle=False)\n",
    "\n",
    "# linear regression\n",
    "model1 = LinearRegression().fit(X_train,y_train)\n",
    "model1_train = pd.Series(model1.predict(X_train),index=X_train.index)\n",
    "model1_test = pd.Series(model1.predict(X_test),index=X_test.index)\n",
    "\n",
    "model2 = RandomForestRegressor().fit(X_train,y_train)\n",
    "model2_train = pd.Series(model2.predict(X_train),index=X_train.index)\n",
    "model2_test = pd.Series(model2.predict(X_test),index=X_test.index)\n",
    "\n",
    "# create dataframes for each \n",
    "model1_train_df = make_df(model1_train,y_train)\n",
    "model1_test_df = make_df(model1_test,y_test)\n",
    "model2_train_df = make_df(model2_train,y_train)\n",
    "model2_test_df = make_df(model2_test,y_test)\n",
    "\n",
    "s1 = calc_scorecard(model1_train_df)\n",
    "s1.name = 'model1_train'\n",
    "s2 = calc_scorecard(model1_test_df)\n",
    "s2.name = 'model1_test'\n",
    "s3 = calc_scorecard(model2_train_df)\n",
    "s3.name = 'model2_train'\n",
    "s4 = calc_scorecard(model2_test_df)\n",
    "s4.name = 'model2_test'\n",
    "\n",
    "print(pd.concat([s1,s2,s3,s4],axis=1))"
   ]
  },
  {
   "cell_type": "markdown",
   "metadata": {
    "collapsed": true
   },
   "source": [
    "This quick and dirty scorecard comparison gives us a great deal of useful information.  We learn that:\n",
    "* The relatively simple linear regression (model1) does a very good job of prediction, correct about 68% of the time, capturing >50% of available price movement (this is very good) during training\n",
    "* Model1 holds up very well out of sample, performing nearly as well on test as train\n",
    "* Model2, a more complex random forest ensemble model, appears _far_ superior on the training data, capturing 90%+ of available price action, but appears quite overfit and does not perform nearly as well on the test set.\n"
   ]
  },
  {
   "cell_type": "markdown",
   "metadata": {},
   "source": [
    "### Summary\n",
    "In this tutorial, we've covered a framework for evaluating models in a market prediction context  and have demonstrated a few useful metrics.  However, the approach can be extended much further to suit your needs.  You can consider:\n",
    "* Adding new metrics to the standard scorecard\n",
    "* Comparing scorecard metrics for subsets of the universe.  For instance, each symbol or grouping of symbols  \n",
    "* Calculating and plotting performance metrics across time to validate robustness or to identify trends\n",
    "\n",
    "In the final post of this series, I'll present a unique framework for creating an _ensemble model_ to blend together the results of your many different forecasting models.  \n",
    "\n",
    "Please feel free to add to the comment section with your good ideas for useful metrics, with questions/comments on this post, and topic ideas for future posts.  "
   ]
  },
  {
   "cell_type": "markdown",
   "metadata": {},
   "source": [
    "### One last thing...\n",
    "\n",
    "If you've found this post useful, please follow [@data2alpha](https://twitter.com/data2alpha) on twitter and forward to a friend or colleague who may also find this topic interesting.\n",
    "\n",
    "Finally, take a minute to leave a comment below - either to discuss this post or to offer an idea for future posts.  Thanks for reading!"
   ]
  },
  {
   "cell_type": "code",
   "execution_count": null,
   "metadata": {
    "collapsed": true
   },
   "outputs": [],
   "source": []
  }
 ],
 "metadata": {
  "gist_id": "7b8f7aba4cb61bbc2af8814e2e7f2a64",
  "kernelspec": {
   "display_name": "Python 3",
   "language": "python",
   "name": "python3"
  },
  "language_info": {
   "codemirror_mode": {
    "name": "ipython",
    "version": 3
   },
   "file_extension": ".py",
   "mimetype": "text/x-python",
   "name": "python",
   "nbconvert_exporter": "python",
   "pygments_lexer": "ipython3",
   "version": "3.6.4"
  }
 },
 "nbformat": 4,
 "nbformat_minor": 2
}
