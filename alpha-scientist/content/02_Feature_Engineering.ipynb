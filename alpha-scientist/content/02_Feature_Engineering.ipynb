{
 "cells": [
  {
   "cell_type": "code",
   "execution_count": 1,
   "source": [
    "#ignore\n",
    "from IPython.core.display import HTML,Image\n",
    "import sys\n",
    "sys.path.append('/anaconda/')\n",
    "import config\n",
    "\n",
    "HTML('<style>{}</style>'.format(config.CSS))"
   ],
   "outputs": [
    {
     "output_type": "execute_result",
     "data": {
      "text/html": [
       "<style> </style>"
      ],
      "text/plain": [
       "<IPython.core.display.HTML object>"
      ]
     },
     "metadata": {},
     "execution_count": 1
    }
   ],
   "metadata": {}
  },
  {
   "cell_type": "markdown",
   "source": [
    "\n",
    "### Introduction\n",
    "\n",
    "If you haven't yet seen the [first post](data_management.html) for this series, please take a minute to read that first...  Are you back?  Great.  Let's enter the wormhole...  \n",
    "\n",
    "\n",
    "<img src=\"images/DataVortex.jpg\" width=\"400\">\n",
    "\n",
    "\n",
    "This post is going to delve into the mechanics of _feature engineering_ for the sorts of time series data that you may use as part of a stock price prediction modeling system.  \n",
    "\n",
    "I'll cover the basic concept, then offer some useful python code recipes for transforming your raw source data into features which can be fed directly into a ML algorithm or ML pipeline.\n",
    "\n",
    "Anyone who has dabbled with any systems-based trading or charting already has experience with simple forms of feature engineering, whether or not they realized it.  For instance:\n",
    "* Converting a series of asset prices into percent change values is a simple form of feature engineering\n",
    "* Charting prices vs. a moving average is an implicit form of feature engineering\n",
    "* Any technical indicator (RSI, MACD, etc...) are also forms of feature engineering\n",
    "\n",
    "The process takes in one or more columns of \"raw\" input data (e.g., OHLC price data, 10-Q financials, social media sentiment, etc...) and converts it into _many_ columns of engineered features.   \n",
    "\n",
    "\n",
    "### Motivation\n",
    "\n",
    "I believe (and I don't think I'm alone here!) that featue engineering is the most under-appreciated part of the art of machine learning.  It's certainly the most time consuming and tedious, but it's creative and \"fun\" (for those who like getting their hands dirty with data, anyway...).  \n",
    "\n",
    "Feature engineering is also one of the key areas where those with domain expertise can shine.  Those whose expertise in investing is greater than their skill in machine learning will find that feature engineering will allow them to make use of that domain expertise.  \n",
    "\n",
    "_Feature engineering_ is a term of art for data science and machine learning which refers to pre-processing and transforming raw data into a form which is more easily used by machine learning algorithms.  Much like industrial processing can extract pure gold from trace elements within raw ore, feature engineering can extract valuable \"alpha\" from very noisy raw data.  \n",
    "\n",
    "\n",
    "<img src=\"images/gold_mine.jpg\" width=\"400\">\n",
    "\n",
    "You have to dig through a lot of dirt to find gold.\n"
   ],
   "metadata": {}
  },
  {
   "cell_type": "markdown",
   "source": [
    "### Principles and guidelines\n",
    "\n",
    "Feature engineering is fundamentally a creative process which should not be overly constrained by rules or limits.  \n",
    "\n",
    "However, I do believe there are a few guidelines to be followed:  \n",
    "\n",
    "* __No peeking:__ Peeking (into the future) is the \"original sin\" of feature engineering (and prediction modeling in general).  It refers to using information about the future (or information which would not yet be known by us...) to engineer a piece of data.  \n",
    "\n",
    " This can be obvious, like using next_12_months_returns.  However, it's most often quite subtle, like using the mean or standard deviation across the full time period to normalize data points (which implicitly leaks future information into our features.  The test is whether you would be able to get __the exact same value__ if you were calculating the data point at that point in time rather than today. \n",
    " \n",
    "\n",
    "* __Only the knowable:__ A corrolary to the above, you also need to be honest about what you would have known at the time, not just what had happened at the time.  For instance, short borrowing data is reported by exchanges with a considerable time lag.  You would want to stamp the feature with the date on which you _would have known_ it.  \n",
    "\n",
    "\n",
    "* __Complete the table:__ Many machine learning algorithms expect that every input feature will have a value (of a certain type) for each observation.  If you envision a spreadsheet where each feature is a column and each observation is a row, there should be a value in each cell of the table.  Quite often, some features in the table will naturally update themselves more frequently than others.  \n",
    "\n",
    " Price data updates almost continuously, while short inventory, analyst estimates, or EBITDA tend to update every few weeks or months.  In these cases, we'll use a scheme like last observation carried forward (LOCF) to always have a value for each feature in the naturally lower frequency columns.  Of course, we will be careful to avoid inadvertent peeking!\n",
    " \n",
    "\n",
    "* __Avoid false ordinality:__ Finally, it's extremely important to represent features in a way that captures ordinality only if it has meaning.  For instance, it's usually a bad idea to represent \"day of the week\" as an integer 1 to 7 since this implicitly tells the model to treat Friday as very similar to Thursday, but \"a little more\".  It would also say that Sunday and Monday are totally different (if Sunday =7 and Monday =1). We could miss all manner of interesting patterns in the data.  \n"
   ],
   "metadata": {}
  },
  {
   "cell_type": "markdown",
   "source": [
    "### Getting Started\n",
    "I will begin by extracting some toy data into a dataframe using free data from [quandl](https://www.quandl.com/): \n",
    "\n",
    "First, we'll make a utility function which downloads one or more symbols from quandl and returns the adjusted OHLC data (I generally find adjusted data to be best)."
   ],
   "metadata": {}
  },
  {
   "cell_type": "code",
   "execution_count": 1,
   "source": [
    "import numpy as np\n",
    "import pandas as pd\n",
    "pd.core.common.is_list_like = pd.api.types.is_list_like # remove once updated pandas-datareader issue is fixed\n",
    "# https://github.com/pydata/pandas-datareader/issues/534\n",
    "import pandas_datareader.data as web\n",
    "%matplotlib inline\n",
    "\n",
    "def get_symbols(symbols,data_source, begin_date=None,end_date=None):\n",
    "    out = pd.DataFrame()\n",
    "    for symbol in symbols:\n",
    "        df = web.DataReader(symbol, data_source,begin_date, end_date)\\\n",
    "        [['AdjOpen','AdjHigh','AdjLow','AdjClose','AdjVolume']].reset_index()\n",
    "        df.columns = ['date','open','high','low','close','volume'] #my convention: always lowercase\n",
    "        df['symbol'] = symbol # add a new column which contains the symbol so we can keep multiple symbols in the same dataframe\n",
    "        df = df.set_index(['date','symbol'])\n",
    "        out = pd.concat([out,df],axis=0) #stacks on top of previously collected data\n",
    "    return out.sort_index()\n",
    "        \n",
    "prices = get_symbols(['AAPL','CSCO'],data_source='quandl',\\\n",
    "                     begin_date='2015-01-01',end_date='2017-01-01')"
   ],
   "outputs": [
    {
     "output_type": "error",
     "ename": "ValueError",
     "evalue": "The Quandl API key must be provided either through the api_key variable or through the environmental variable QUANDL_API_KEY.",
     "traceback": [
      "\u001b[0;31m---------------------------------------------------------------------------\u001b[0m",
      "\u001b[0;31mValueError\u001b[0m                                Traceback (most recent call last)",
      "\u001b[0;32m/var/folders/wf/v2mgg4797d13wqgpc52j94g40000gn/T/ipykernel_15737/1486156539.py\u001b[0m in \u001b[0;36m<module>\u001b[0;34m\u001b[0m\n\u001b[1;32m     17\u001b[0m     \u001b[0;32mreturn\u001b[0m \u001b[0mout\u001b[0m\u001b[0;34m.\u001b[0m\u001b[0msort_index\u001b[0m\u001b[0;34m(\u001b[0m\u001b[0;34m)\u001b[0m\u001b[0;34m\u001b[0m\u001b[0;34m\u001b[0m\u001b[0m\n\u001b[1;32m     18\u001b[0m \u001b[0;34m\u001b[0m\u001b[0m\n\u001b[0;32m---> 19\u001b[0;31m prices = get_symbols(['AAPL','CSCO'],data_source='quandl',\\\n\u001b[0m\u001b[1;32m     20\u001b[0m                      begin_date='2015-01-01',end_date='2017-01-01')\n",
      "\u001b[0;32m/var/folders/wf/v2mgg4797d13wqgpc52j94g40000gn/T/ipykernel_15737/1486156539.py\u001b[0m in \u001b[0;36mget_symbols\u001b[0;34m(symbols, data_source, begin_date, end_date)\u001b[0m\n\u001b[1;32m      9\u001b[0m     \u001b[0mout\u001b[0m \u001b[0;34m=\u001b[0m \u001b[0mpd\u001b[0m\u001b[0;34m.\u001b[0m\u001b[0mDataFrame\u001b[0m\u001b[0;34m(\u001b[0m\u001b[0;34m)\u001b[0m\u001b[0;34m\u001b[0m\u001b[0;34m\u001b[0m\u001b[0m\n\u001b[1;32m     10\u001b[0m     \u001b[0;32mfor\u001b[0m \u001b[0msymbol\u001b[0m \u001b[0;32min\u001b[0m \u001b[0msymbols\u001b[0m\u001b[0;34m:\u001b[0m\u001b[0;34m\u001b[0m\u001b[0;34m\u001b[0m\u001b[0m\n\u001b[0;32m---> 11\u001b[0;31m         \u001b[0mdf\u001b[0m \u001b[0;34m=\u001b[0m \u001b[0mweb\u001b[0m\u001b[0;34m.\u001b[0m\u001b[0mDataReader\u001b[0m\u001b[0;34m(\u001b[0m\u001b[0msymbol\u001b[0m\u001b[0;34m,\u001b[0m \u001b[0mdata_source\u001b[0m\u001b[0;34m,\u001b[0m\u001b[0mbegin_date\u001b[0m\u001b[0;34m,\u001b[0m \u001b[0mend_date\u001b[0m\u001b[0;34m)\u001b[0m\u001b[0;31m\\\u001b[0m\u001b[0;34m\u001b[0m\u001b[0;34m\u001b[0m\u001b[0m\n\u001b[0m\u001b[1;32m     12\u001b[0m         \u001b[0;34m[\u001b[0m\u001b[0;34m[\u001b[0m\u001b[0;34m'AdjOpen'\u001b[0m\u001b[0;34m,\u001b[0m\u001b[0;34m'AdjHigh'\u001b[0m\u001b[0;34m,\u001b[0m\u001b[0;34m'AdjLow'\u001b[0m\u001b[0;34m,\u001b[0m\u001b[0;34m'AdjClose'\u001b[0m\u001b[0;34m,\u001b[0m\u001b[0;34m'AdjVolume'\u001b[0m\u001b[0;34m]\u001b[0m\u001b[0;34m]\u001b[0m\u001b[0;34m.\u001b[0m\u001b[0mreset_index\u001b[0m\u001b[0;34m(\u001b[0m\u001b[0;34m)\u001b[0m\u001b[0;34m\u001b[0m\u001b[0;34m\u001b[0m\u001b[0m\n\u001b[1;32m     13\u001b[0m         \u001b[0mdf\u001b[0m\u001b[0;34m.\u001b[0m\u001b[0mcolumns\u001b[0m \u001b[0;34m=\u001b[0m \u001b[0;34m[\u001b[0m\u001b[0;34m'date'\u001b[0m\u001b[0;34m,\u001b[0m\u001b[0;34m'open'\u001b[0m\u001b[0;34m,\u001b[0m\u001b[0;34m'high'\u001b[0m\u001b[0;34m,\u001b[0m\u001b[0;34m'low'\u001b[0m\u001b[0;34m,\u001b[0m\u001b[0;34m'close'\u001b[0m\u001b[0;34m,\u001b[0m\u001b[0;34m'volume'\u001b[0m\u001b[0;34m]\u001b[0m \u001b[0;31m#my convention: always lowercase\u001b[0m\u001b[0;34m\u001b[0m\u001b[0;34m\u001b[0m\u001b[0m\n",
      "\u001b[0;32m~/djangoproject/tensorflow/py3_akshare_env/lib/python3.9/site-packages/pandas/util/_decorators.py\u001b[0m in \u001b[0;36mwrapper\u001b[0;34m(*args, **kwargs)\u001b[0m\n\u001b[1;32m    205\u001b[0m                 \u001b[0;32melse\u001b[0m\u001b[0;34m:\u001b[0m\u001b[0;34m\u001b[0m\u001b[0;34m\u001b[0m\u001b[0m\n\u001b[1;32m    206\u001b[0m                     \u001b[0mkwargs\u001b[0m\u001b[0;34m[\u001b[0m\u001b[0mnew_arg_name\u001b[0m\u001b[0;34m]\u001b[0m \u001b[0;34m=\u001b[0m \u001b[0mnew_arg_value\u001b[0m\u001b[0;34m\u001b[0m\u001b[0;34m\u001b[0m\u001b[0m\n\u001b[0;32m--> 207\u001b[0;31m             \u001b[0;32mreturn\u001b[0m \u001b[0mfunc\u001b[0m\u001b[0;34m(\u001b[0m\u001b[0;34m*\u001b[0m\u001b[0margs\u001b[0m\u001b[0;34m,\u001b[0m \u001b[0;34m**\u001b[0m\u001b[0mkwargs\u001b[0m\u001b[0;34m)\u001b[0m\u001b[0;34m\u001b[0m\u001b[0;34m\u001b[0m\u001b[0m\n\u001b[0m\u001b[1;32m    208\u001b[0m \u001b[0;34m\u001b[0m\u001b[0m\n\u001b[1;32m    209\u001b[0m         \u001b[0;32mreturn\u001b[0m \u001b[0mcast\u001b[0m\u001b[0;34m(\u001b[0m\u001b[0mF\u001b[0m\u001b[0;34m,\u001b[0m \u001b[0mwrapper\u001b[0m\u001b[0;34m)\u001b[0m\u001b[0;34m\u001b[0m\u001b[0;34m\u001b[0m\u001b[0m\n",
      "\u001b[0;32m~/djangoproject/tensorflow/py3_akshare_env/lib/python3.9/site-packages/pandas_datareader/data.py\u001b[0m in \u001b[0;36mDataReader\u001b[0;34m(name, data_source, start, end, retry_count, pause, session, api_key)\u001b[0m\n\u001b[1;32m    492\u001b[0m \u001b[0;34m\u001b[0m\u001b[0m\n\u001b[1;32m    493\u001b[0m     \u001b[0;32melif\u001b[0m \u001b[0mdata_source\u001b[0m \u001b[0;34m==\u001b[0m \u001b[0;34m\"quandl\"\u001b[0m\u001b[0;34m:\u001b[0m\u001b[0;34m\u001b[0m\u001b[0;34m\u001b[0m\u001b[0m\n\u001b[0;32m--> 494\u001b[0;31m         return QuandlReader(\n\u001b[0m\u001b[1;32m    495\u001b[0m             \u001b[0msymbols\u001b[0m\u001b[0;34m=\u001b[0m\u001b[0mname\u001b[0m\u001b[0;34m,\u001b[0m\u001b[0;34m\u001b[0m\u001b[0;34m\u001b[0m\u001b[0m\n\u001b[1;32m    496\u001b[0m             \u001b[0mstart\u001b[0m\u001b[0;34m=\u001b[0m\u001b[0mstart\u001b[0m\u001b[0;34m,\u001b[0m\u001b[0;34m\u001b[0m\u001b[0;34m\u001b[0m\u001b[0m\n",
      "\u001b[0;32m~/djangoproject/tensorflow/py3_akshare_env/lib/python3.9/site-packages/pandas_datareader/quandl.py\u001b[0m in \u001b[0;36m__init__\u001b[0;34m(self, symbols, start, end, retry_count, pause, session, chunksize, api_key)\u001b[0m\n\u001b[1;32m     63\u001b[0m             \u001b[0mapi_key\u001b[0m \u001b[0;34m=\u001b[0m \u001b[0mos\u001b[0m\u001b[0;34m.\u001b[0m\u001b[0mgetenv\u001b[0m\u001b[0;34m(\u001b[0m\u001b[0;34m\"QUANDL_API_KEY\"\u001b[0m\u001b[0;34m)\u001b[0m\u001b[0;34m\u001b[0m\u001b[0;34m\u001b[0m\u001b[0m\n\u001b[1;32m     64\u001b[0m         \u001b[0;32mif\u001b[0m \u001b[0;32mnot\u001b[0m \u001b[0mapi_key\u001b[0m \u001b[0;32mor\u001b[0m \u001b[0;32mnot\u001b[0m \u001b[0misinstance\u001b[0m\u001b[0;34m(\u001b[0m\u001b[0mapi_key\u001b[0m\u001b[0;34m,\u001b[0m \u001b[0mstr\u001b[0m\u001b[0;34m)\u001b[0m\u001b[0;34m:\u001b[0m\u001b[0;34m\u001b[0m\u001b[0;34m\u001b[0m\u001b[0m\n\u001b[0;32m---> 65\u001b[0;31m             raise ValueError(\n\u001b[0m\u001b[1;32m     66\u001b[0m                 \u001b[0;34m\"The Quandl API key must be provided either \"\u001b[0m\u001b[0;34m\u001b[0m\u001b[0;34m\u001b[0m\u001b[0m\n\u001b[1;32m     67\u001b[0m                 \u001b[0;34m\"through the api_key variable or through the \"\u001b[0m\u001b[0;34m\u001b[0m\u001b[0;34m\u001b[0m\u001b[0m\n",
      "\u001b[0;31mValueError\u001b[0m: The Quandl API key must be provided either through the api_key variable or through the environmental variable QUANDL_API_KEY."
     ]
    }
   ],
   "metadata": {}
  },
  {
   "cell_type": "markdown",
   "source": [
    "With the data collected, we can create a new dataframe called \"features\" which will be used to compile all of the features we engineer.  Good practice is to create this dataframe with an index from your downloaded data, since you should only have new feature values as you have new primary source data.  \n",
    "\n",
    "As the simple example below illustrates, we can then construct features from the data and store into multiple feature columns.  Note that there will often be null values inserted if the formula doesn't produce valid values for each row index.    \n"
   ],
   "metadata": {}
  },
  {
   "cell_type": "code",
   "execution_count": 3,
   "source": [
    "features = pd.DataFrame(index=prices.index).sort_index()\n",
    "features['f01'] = prices.close/prices.open-1 # daily return\n",
    "features['f02'] = prices.open/prices.groupby(level='symbol').close.shift(1)-1 \n",
    "print(features.tail())\n"
   ],
   "outputs": [
    {
     "output_type": "stream",
     "name": "stdout",
     "text": [
      "                        f01       f02\n",
      "date       symbol                    \n",
      "2016-12-28 CSCO   -0.009121  0.000652\n",
      "2016-12-29 AAPL    0.002404 -0.002655\n",
      "           CSCO    0.002963 -0.001644\n",
      "2016-12-30 AAPL   -0.007115 -0.000685\n",
      "           CSCO   -0.011126  0.003283\n"
     ]
    }
   ],
   "metadata": {}
  },
  {
   "cell_type": "markdown",
   "source": [
    ">__Side note__: I favor following a bland naming convention like f01, f02, etc... for each feature (and then documenting what each feature represents...) rather than using descriptive column names.  My reasons for this are three-fold: \n",
    "\n",
    ">1. Descriptive names tend to be long and cumbersome to use, \n",
    "2. They're rarely truely self-describing, and \n",
    "3. It's often useful to create an abstraction to conceal from the modeler (either yourself or someone else) what each represents.  Think of it like a blind taste test.\n",
    "\n",
    "Following this basic code pattern, we can generate infinite variations into our features.  This is where your domain expertise and analytical creativity come into play!  \n",
    "\n",
    "My suggestion is to make sure you have a reasonable hypothesis before you create any feature, but don't be afraid to try many variations on a theme.  There is much to be learned from trying several flavors of feature transformations out.  \n",
    "\n",
    "\n",
    "### Common Transforms\n",
    "In the interest of accelerating your creativity, I've listed below a series of \"recipes\" for some of the transforms I've found useful - especially when using linear or quasi-linear models - extract meaningful relationships.  \n"
   ],
   "metadata": {}
  },
  {
   "cell_type": "markdown",
   "source": [
    "#### Logs\n",
    "Many times, values like market cap, volume, revenue can map better to the prediction target if put into log space.  This is easy to do via pandas+numpy:"
   ],
   "metadata": {}
  },
  {
   "cell_type": "code",
   "execution_count": 4,
   "source": [
    "features['f03'] = prices.volume.apply(np.log) # log of daily volume"
   ],
   "outputs": [],
   "metadata": {}
  },
  {
   "cell_type": "markdown",
   "source": [
    "#### Differencing\n",
    "It's often more important to know how a value is changing than to know the value itself.  The `diff()` method will calculate the change in value since the prior period (i.e., current minus prior).  NOTE: the \"groupby\" is critically important since if it were omitted we would be comparing the difference in volume between symbols, which is not what we want.  "
   ],
   "metadata": {}
  },
  {
   "cell_type": "code",
   "execution_count": 5,
   "source": [
    "features['f03'] = prices.groupby(level='symbol').volume.diff() # change since prior day\n",
    "features['f04'] = prices.groupby(level='symbol').volume.diff(50) # change since 50 days prior"
   ],
   "outputs": [],
   "metadata": {}
  },
  {
   "cell_type": "markdown",
   "source": [
    "#### Rate of Change\n",
    "Even more common is to want the rate of change as expressed by percent change.  Pandas has the handy `pct_change()` method for this purpose, but beware that you'll get [odd behavior](https://stackoverflow.com/questions/50915213/using-pct-change-with-multiindex-groupby) if you mix this with `groupby()` as shown above.  I prefer to create my own lambda wrapper function as shown below."
   ],
   "metadata": {}
  },
  {
   "cell_type": "code",
   "execution_count": 6,
   "source": [
    "pct_chg_fxn = lambda x: x.pct_change()\n",
    "features['f05'] = prices.groupby(level='symbol').volume.apply(pct_chg_fxn) "
   ],
   "outputs": [],
   "metadata": {}
  },
  {
   "cell_type": "markdown",
   "source": [
    "#### Moving Averages\n",
    "Sometimes, we'd rather use the moving average of a value as part of a feature.  This can be the value itself if you want to minimize how \"jittery\" a value is.  Or, more commonly, you may want to compare a value with a trailing moving average of itself.  \n",
    "\n",
    "Again, we need to use groupby since our dataframe has info on multiple symbols - and again, we need to use a lambda function wrapper to avoid error.  There are other patterns which will accomplish the same thing but I find this to be cleanest.     \n",
    "\n",
    "  "
   ],
   "metadata": {}
  },
  {
   "cell_type": "code",
   "execution_count": 7,
   "source": [
    "# log of 5 day moving average of volume\n",
    "ma_5 = lambda x: x.rolling(5).mean()\n",
    "features['f06'] = prices.volume.groupby(level='symbol').apply(ma_5)\\\n",
    ".apply(np.log) \n",
    "\n",
    "# daily volume vs. 200 day moving average\n",
    "ma_200 = lambda x: x.rolling(200).mean()\n",
    "features['f07'] = prices.volume/ prices.volume.groupby(level='symbol')\\\n",
    ".apply(ma_200)-1\n",
    "\n",
    "# daily closing price vs. 50 day exponential moving avg\n",
    "ema_50 = lambda x: x.ewm(span=50).mean()\n",
    "features['f08'] = prices.close/ prices.close.groupby(level='symbol')\\\n",
    ".apply(ema_50)-1"
   ],
   "outputs": [],
   "metadata": {}
  },
  {
   "cell_type": "markdown",
   "source": [
    ">__Side note__: Since the rolling window is an important - and somewhat arbitrary - value, you should try a range of reasonable values.  I have found that it's better to use an exponentially increasing range of values rather than a linear range.  In other words, use [5,10,20,40,80,160] rather than [10,20,30,40...,100].  \n",
    "\n",
    ">The rationale is that values like 90 and 100 are really quite similar whereas 10 and 20 are quite different.  Therefore, if you choose linearly spaced values, you'll effectively be giving the higher end of the value range more chances to succeed than the lower values - and you'll increase the likelihood of overfitting a high value.  "
   ],
   "metadata": {}
  },
  {
   "cell_type": "markdown",
   "source": [
    "#### Z-Scores\n",
    "A very popular/useful transformation for financial time series data is the [z-score](http://stattrek.com/statistics/dictionary.aspx?definition=z-score).  We can easily define a generalized lambda function for this, which we can use whenever needed.  Importantly, it allows us to mix together very different symbols (some high-beta, some low-beta) in a way that considers the statistical significance of any movement.  \n"
   ],
   "metadata": {}
  },
  {
   "cell_type": "code",
   "execution_count": 8,
   "source": [
    "zscore_fxn = lambda x: (x - x.mean()) / x.std()\n",
    "features['f09'] =prices.groupby(level='symbol').close.apply(zscore_fxn)\n",
    "features.f09.unstack().plot.kde(title='Z-Scores (not quite accurate)')"
   ],
   "outputs": [
    {
     "output_type": "execute_result",
     "data": {
      "text/plain": [
       "<matplotlib.axes._subplots.AxesSubplot at 0x190806d8>"
      ]
     },
     "metadata": {},
     "execution_count": 8
    },
    {
     "output_type": "display_data",
     "data": {
      "image/png": "[encoded data removed]",
      "text/plain": [
       "<Figure size 432x288 with 1 Axes>"
      ]
     },
     "metadata": {}
    }
   ],
   "metadata": {}
  },
  {
   "cell_type": "markdown",
   "source": [
    "However, the above example has a subtle but important bug.  It uses the mean _of the whole time frame_ and the standard deviation _of the whole time frame_ to calculate each datapoint.  This means we are peeking ahead into the future and the feature is potentially very danger-prone (it'll work famously well in sample and fail to work out of sample...).\n",
    "\n",
    "Fixing this is cumbersome, but necessary.  "
   ],
   "metadata": {}
  },
  {
   "cell_type": "code",
   "execution_count": 9,
   "source": [
    "zscore_fun_improved = lambda x: (x - x.rolling(window=200, min_periods=20).mean())\\\n",
    "/ x.rolling(window=200, min_periods=20).std()\n",
    "features['f10'] =prices.groupby(level='symbol').close.apply(zscore_fun_improved)\n",
    "features.f10.unstack().plot.kde(title='Z-Scores (accurate)')"
   ],
   "outputs": [
    {
     "output_type": "execute_result",
     "data": {
      "text/plain": [
       "<matplotlib.axes._subplots.AxesSubplot at 0x1bd53710>"
      ]
     },
     "metadata": {},
     "execution_count": 9
    },
    {
     "output_type": "display_data",
     "data": {
      "image/png": "[encoded data removed]",
      "text/plain": [
       "<Figure size 432x288 with 1 Axes>"
      ]
     },
     "metadata": {}
    }
   ],
   "metadata": {
    "scrolled": false
   }
  },
  {
   "cell_type": "markdown",
   "source": [
    "#### Percentile\n",
    "Less commonly used - but equally useful - is the percentile transformation.  Getting this done properly in pandas (with groupby and rolling) is possible but tricky.  The below example returns the percentile rank (from 0.00 to 1.00) of traded volume for each value as compared to a trailing 200 day period.  \n",
    "\n",
    "Note that we need to use _a lambda within a lambda_ to make this work properly.  We're on the bleeding edge.\n"
   ],
   "metadata": {}
  },
  {
   "cell_type": "code",
   "execution_count": 10,
   "source": [
    "rollrank_fxn = lambda x: x.rolling(200,min_periods=20)\\\n",
    ".apply(lambda x: pd.Series(x).rank(pct=True)[0])\n",
    "features['f11'] = prices.groupby(level='symbol').volume.apply(rollrank_fxn)"
   ],
   "outputs": [],
   "metadata": {}
  },
  {
   "cell_type": "markdown",
   "source": [
    "Another interesting application of this same pattern is to rank each stock _cross-sectionally_ rather than _longitudinally_ as above.  In other words, where does this stock rank within all of the stocks on that day, not for all prior days of that stock.  The below example isn't very meaningful with only two stocks, but quite useful when using a realistic universe.  In this example, we're also making use of an earlier feature (relative volume) to compare which symbol is most heavily traded _for that stock's normal range_ in a given day.  Also note that we need to `dropna()` prior to ranking because `rank` doesn't handle nulls very gracefully.   "
   ],
   "metadata": {}
  },
  {
   "cell_type": "code",
   "execution_count": 11,
   "source": [
    "features['f12'] = features['f07'].dropna().groupby(level='date').rank(pct=True) "
   ],
   "outputs": [],
   "metadata": {}
  },
  {
   "cell_type": "markdown",
   "source": [
    "#### Technical Indicators\n",
    "\n",
    "<img src=\"images/TA.jpg\" width=\"400\">\n",
    "\n",
    "Those with a taste for technical analysis may find it difficult to let go of your favored TA techniques.  \n",
    "\n",
    "While this is not _my_ favored approach, you'll have no problem engineering features using these methods.  From my cursory googling, it looked as though the [open source package `ta`](https://github.com/bukosabino/ta) would be a good place to start.  \n",
    "\n",
    "Very new and only one contributor but it looks fairly comprehensive and well documented.  If you find that it's missing your favorite indicators, consider contributing to the package.  If you know of better such packages, please post in the comments below...  \n",
    "\n",
    "As an example:\n"
   ],
   "metadata": {}
  },
  {
   "cell_type": "code",
   "execution_count": 12,
   "source": [
    "import ta # technical analysis library: https://technical-analysis-library-in-python.readthedocs.io/en/latest/\n",
    "# money flow index (14 day)\n",
    "features['f13'] = ta.momentum.money_flow_index(prices.high, \n",
    "                                               prices.low, prices.close, \\\n",
    "                                               prices.volume, n=14, fillna=False)\n",
    "# mean-centered money flow index\n",
    "features['f14'] = features['f13'] - features['f13']\\\n",
    ".rolling(200,min_periods=20).mean()"
   ],
   "outputs": [],
   "metadata": {}
  },
  {
   "cell_type": "markdown",
   "source": [
    "### Alternative Representations\n",
    "A bit different than transforms are \"representations\", i.e., other ways to represent continuous values.  All of the transforms above returned continuous values rather than \"labels\", and that's often a good place to start - especally for early prototypes.\n",
    "\n",
    "However, you may want to represent the data in different ways, especially if using classification-based approaches or worried about the [curse of dimensionality](https://en.wikipedia.org/wiki/Curse_of_dimensionality) due to large numbers of features.  "
   ],
   "metadata": {}
  },
  {
   "cell_type": "markdown",
   "source": [
    "#### Binning\n",
    "We can easily convert a continous variable to discrete \"bins\" (like 1 to 10).  This loses information, of course, but sometimes loss of information is a good thing if you are removing more noise than signal.  \n",
    "\n",
    "The below example shows volumes converted into ten equally sized buckets.  In other words, we've converted a continuous variable into a discrete one.  \n",
    "\n",
    "NOTE: this example is not applied in a rolling fashion, so it __does suffer from some data peeking__, which I've described as the original sin.  At the moment, I'm failing in my efforts to implement it in a rolling way.  I'd be grateful for code snippets if anyone knows how to do this offhand.   "
   ],
   "metadata": {}
  },
  {
   "cell_type": "code",
   "execution_count": 13,
   "source": [
    "n_bins = 10\n",
    "bin_fxn = lambda y: pd.qcut(y,q=n_bins,labels = range(1,n_bins+1))\n",
    "features['f15'] = prices.volume.groupby(level='symbol').apply(bin_fxn)"
   ],
   "outputs": [],
   "metadata": {}
  },
  {
   "cell_type": "markdown",
   "source": [
    "#### Signing\n",
    "Very simply, you may wish to convert continuous variables into positive or negative (1 or -1) values, depending on input.  For instance, was volume increasing or decreasing today?  \n"
   ],
   "metadata": {}
  },
  {
   "cell_type": "code",
   "execution_count": 14,
   "source": [
    "features['f16'] = features['f05'].apply(np.sign)"
   ],
   "outputs": [],
   "metadata": {}
  },
  {
   "cell_type": "markdown",
   "source": [
    "#### Plus-Minus\n",
    "You may be interested in how many days in a row a value has increased (or decreased).  Below is a simple pattern to do just that - it calculates the number of up-days minus the number of down days.  \n"
   ],
   "metadata": {}
  },
  {
   "cell_type": "code",
   "execution_count": 15,
   "source": [
    "plus_minus_fxn = lambda x: x.rolling(20).sum()\n",
    "features['f17'] = features['f16'].groupby(level='symbol').apply(plus_minus_fxn)"
   ],
   "outputs": [],
   "metadata": {}
  },
  {
   "cell_type": "markdown",
   "source": [
    "#### One-Hot Encoding\n",
    "Possibly the most common alternative representation is \"one-hot encoding\" where a categorical variable is represented as a binary.  For instance, month_of_year would be represented as twelve different columns, each of which was either 0 or 1.  January would be [1,0,0,0,...0] etc...  \n",
    "\n",
    "This is absolutely crucial in a few circumstances.  The first is where there is false meaning in the \"ordinality\" of values.  If we were looking to test the \"santa claus effect\" hypothesis, it wouldn't be helpful to use a month_of_year feature where January was \"the least\" and December was \"the most\".  \n",
    "\n",
    "The second is in cases where we are representing events or \"states\".  Does the word \"lawsuit\" appear within the 10-Q footnotes?  Is the company in the blackout period for share buybacks?  \n",
    "\n",
    "Finally, the particular machine learning algorithm (tree-based, neural networks) may find it easier to use binary representations than continuous or discrete ones.  \n",
    "\n",
    "The below example creates twelve one-hot features, one for each month, and names them automatically "
   ],
   "metadata": {}
  },
  {
   "cell_type": "code",
   "execution_count": 16,
   "source": [
    "month_of_year = prices.index.get_level_values(level='date').month\n",
    "one_hot_frame = pd.DataFrame(pd.get_dummies(month_of_year))\n",
    "one_hot_frame.index = prices.index # Careful!  This is forcing index values without usual pandas alignments!\n",
    "\n",
    "# create column names \n",
    "begin_num = int(features.columns[-1][-2:]) + 1 #first available feature\n",
    "feat_names = ['f'+str(num) for num in list(range(begin_num,begin_num+12,1))]\n",
    "\n",
    "# rename columns and merge\n",
    "one_hot_frame.columns = feat_names\n",
    "features = features.join(one_hot_frame)\n",
    "print(features.iloc[:,-12:].tail())"
   ],
   "outputs": [
    {
     "output_type": "stream",
     "name": "stdout",
     "text": [
      "                   f18  f19  f20  f21  f22  f23  f24  f25  f26  f27  f28  f29\n",
      "date       symbol                                                            \n",
      "2016-12-28 CSCO      0    0    0    0    0    0    0    0    0    0    0    1\n",
      "2016-12-29 AAPL      0    0    0    0    0    0    0    0    0    0    0    1\n",
      "           CSCO      0    0    0    0    0    0    0    0    0    0    0    1\n",
      "2016-12-30 AAPL      0    0    0    0    0    0    0    0    0    0    0    1\n",
      "           CSCO      0    0    0    0    0    0    0    0    0    0    0    1\n"
     ]
    }
   ],
   "metadata": {}
  },
  {
   "cell_type": "markdown",
   "source": [
    "With raw data series `month` transformed into 12 individual one-hot encoding columns, we can train a model which will learn whether the fact that it's July should materially affect our predictions, based on historical patterns.  \n"
   ],
   "metadata": {}
  },
  {
   "cell_type": "markdown",
   "source": [
    "### Summary\n",
    "\n",
    "Whew!  We made it.  \n",
    "\n",
    "From this post, you've seen a simple code pattern for creating any number of \"features\" from raw input data, as well as some suggestions for useful transformations and alternative representations.  \n",
    "\n",
    "If we've done it right, this has resulted in many variations of similar features.  Thus, before we start building models, we need a method of selecting only those features which provide greatest insight and robustness.  \n",
    "\n",
    "I'll cover this in the next post: [Feature Selection](feature_selection.html)"
   ],
   "metadata": {}
  },
  {
   "cell_type": "markdown",
   "source": [
    "### One last thing...\n",
    "\n",
    "If you've found this post useful, please follow [@data2alpha](https://twitter.com/data2alpha) on twitter and forward to a friend or colleague who may also find this topic interesting.\n",
    "\n",
    "Finally, take a minute to leave a comment below - either to discuss this post or to offer an idea for future posts.  Thanks for reading!"
   ],
   "metadata": {}
  }
 ],
 "metadata": {
  "gist_id": "32d47992298102d50a700879e273493e",
  "kernelspec": {
   "name": "python3",
   "display_name": "Python 3.9.6 64-bit"
  },
  "language_info": {
   "codemirror_mode": {
    "name": "ipython",
    "version": 3
   },
   "file_extension": ".py",
   "mimetype": "text/x-python",
   "name": "python",
   "nbconvert_exporter": "python",
   "pygments_lexer": "ipython3",
   "version": "3.9.6"
  },
  "interpreter": {
   "hash": "eaf78933dfb01674ac6e15377b6861907c43ba78f98df0be1a60e51f2a37c02e"
  }
 },
 "nbformat": 4,
 "nbformat_minor": 2
}